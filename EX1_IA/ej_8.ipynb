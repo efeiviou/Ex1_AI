{
 "cells": [
  {
   "cell_type": "markdown",
   "id": "550dfc8e",
   "metadata": {},
   "source": [
    "## Ejercicio 8"
   ]
  },
  {
   "cell_type": "markdown",
   "id": "d7088557",
   "metadata": {},
   "source": [
    "Seleccione un grafo del agente-viajero con almenos 8 nodos obtenga todos los posibles caminos con python, no solucione solo obtenga todas las combinaciones."
   ]
  },
  {
   "cell_type": "code",
   "execution_count": 8,
   "id": "003d5858",
   "metadata": {},
   "outputs": [
    {
     "name": "stdout",
     "output_type": "stream",
     "text": [
      "====================================\n",
      "cantidad de caminos posibles: 3628800\n",
      "====================================\n",
      "ejemplos de caminos posibles\n",
      "[0, 1, 2, 3, 4, 5, 6, 7, 8, 9]\n",
      "[0, 1, 2, 3, 4, 5, 6, 7, 9, 8]\n",
      "[0, 1, 2, 3, 4, 5, 6, 8, 7, 9]\n",
      "[0, 1, 2, 3, 4, 5, 6, 8, 9, 7]\n",
      "[0, 1, 2, 3, 4, 5, 6, 9, 7, 8]\n"
     ]
    }
   ],
   "source": [
    "def permute(nodos):\n",
    "    if len(nodos) == 1:\n",
    "        return [nodos]\n",
    "    \n",
    "    permutaciones = []\n",
    "    for i in range(len(nodos)):\n",
    "\n",
    "        actual = nodos[i]\n",
    "        \n",
    "        resto_n = nodos[:i] + nodos[i+1:]\n",
    "\n",
    "        for p in permute(resto_n):\n",
    "            permutaciones.append([actual] + p)\n",
    "    \n",
    "    return permutaciones\n",
    "\n",
    "nuevos_nodos = list(range(10))\n",
    "\n",
    "caminos = permute(nuevos_nodos)\n",
    "print('=='*18)\n",
    "print(f\"cantidad de caminos posibles: {len(caminos)}\")\n",
    "print('=='*18)\n",
    "print(\"ejemplos de caminos posibles\")\n",
    "for camino in caminos[:5]:\n",
    "    print(camino)\n"
   ]
  },
  {
   "cell_type": "code",
   "execution_count": null,
   "id": "30133913",
   "metadata": {},
   "outputs": [],
   "source": []
  }
 ],
 "metadata": {
  "kernelspec": {
   "display_name": "Python 3 (ipykernel)",
   "language": "python",
   "name": "python3"
  },
  "language_info": {
   "codemirror_mode": {
    "name": "ipython",
    "version": 3
   },
   "file_extension": ".py",
   "mimetype": "text/x-python",
   "name": "python",
   "nbconvert_exporter": "python",
   "pygments_lexer": "ipython3",
   "version": "3.11.3"
  }
 },
 "nbformat": 4,
 "nbformat_minor": 5
}
